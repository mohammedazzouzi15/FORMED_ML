{
 "cells": [
  {
   "cell_type": "code",
   "execution_count": 1,
   "metadata": {},
   "outputs": [],
   "source": [
    "import os\n",
    "\n",
    "import numpy as np\n",
    "import psutil\n",
    "import qml\n"
   ]
  },
  {
   "cell_type": "code",
   "execution_count": 2,
   "metadata": {},
   "outputs": [],
   "source": [
    "names = np.load(\"names.npy\")\n",
    "representations = np.load(\"repr.npy\")"
   ]
  },
  {
   "cell_type": "code",
   "execution_count": 3,
   "metadata": {},
   "outputs": [
    {
     "data": {
      "text/plain": [
       "116687"
      ]
     },
     "execution_count": 3,
     "metadata": {},
     "output_type": "execute_result"
    }
   ],
   "source": [
    "len(names)"
   ]
  },
  {
   "cell_type": "code",
   "execution_count": 4,
   "metadata": {},
   "outputs": [],
   "source": [
    "import itertools as itl\n",
    "def get_slatm_mbtypes(nuclear_charges, pbc='000'):\n",
    "    \"\"\"\n",
    "    Get the list of minimal types of many-body terms in a dataset. This resulting list\n",
    "    is necessary as input in the ``generate_slatm_representation()`` function.\n",
    "\n",
    "    :param nuclear_charges: A list of the nuclear charges for each compound in the dataset.\n",
    "    :type nuclear_charges: list of numpy arrays\n",
    "    :param pbc: periodic boundary condition along x,y,z direction, defaulted to '000', i.e., molecule\n",
    "    :type pbc: string\n",
    "    :return: A list containing the types of many-body terms.\n",
    "    :rtype: list\n",
    "    \"\"\"\n",
    "\n",
    "    zs = nuclear_charges\n",
    "\n",
    "    nm = len(zs)\n",
    "    zsmax = set()\n",
    "    nas = []\n",
    "    zs_ravel = []\n",
    "    for zsi in zs:\n",
    "        na = len(zsi); nas.append(na)\n",
    "        zsil = list(zsi); zs_ravel += zsil\n",
    "        zsmax.update( zsil )\n",
    "\n",
    "    zsmax = np.array( list(zsmax) )\n",
    "    nass = []\n",
    "    for i in range(nm):\n",
    "        zsi = np.array(zs[i],np.int16)\n",
    "        nass.append( [ (zi == zsi).sum() for zi in zsmax ] )\n",
    "\n",
    "    nzmax = np.max(np.array(nass), axis=0)\n",
    "    nzmax_u = []\n",
    "    if pbc != '000':\n",
    "        # the PBC will introduce new many-body terms, so set\n",
    "        # nzmax to 3 if it's less than 3\n",
    "        for nzi in nzmax:\n",
    "            if nzi <= 2:\n",
    "                nzi = 3\n",
    "            nzmax_u.append(nzi)\n",
    "        nzmax = nzmax_u\n",
    "\n",
    "    boas = [ [zi,] for zi in zsmax ]\n",
    "    bops = [ [zi,zi] for zi in zsmax ] + [list(x) for x in list(itl.combinations([1,2,3],2))]\n",
    "\n",
    "    bots = []\n",
    "    for i in zsmax:\n",
    "        for bop in bops:\n",
    "            j,k = bop\n",
    "            tas = [ [i,j,k], [i,k,j], [j,i,k] ]\n",
    "            for tasi in tas:\n",
    "                if (tasi not in bots) and (tasi[::-1] not in bots):\n",
    "                    nzsi = [ (zj == tasi).sum() for zj in zsmax ]\n",
    "                    if np.all(nzsi <= nzmax):\n",
    "                        bots.append( tasi )\n",
    "    mbtypes = boas + bops + bots\n",
    "\n",
    "    return mbtypes #, np.array(zs_ravel), np.array(nas)"
   ]
  },
  {
   "cell_type": "code",
   "execution_count": 5,
   "metadata": {},
   "outputs": [
    {
     "name": "stdout",
     "output_type": "stream",
     "text": [
      "Generated compounds; RAM memory % used: 79.4\n",
      "Total RAM: 33472344064\n",
      "Available RAM: 6909763584\n"
     ]
    }
   ],
   "source": [
    "\n",
    "here = \"/media/mohammed/Work/FORMED_ML/XYZ_FORMED\"\n",
    "namelist = []\n",
    "for name in os.listdir(\n",
    "    here\n",
    "):  # names contains the path to the xyz files to be loaded as compounds which will then be slatmized\n",
    "    namelist.append(qml.Compound(xyz=str(here +\"/\" + name)))\n",
    "\n",
    "compounds = np.asarray(namelist, dtype=object)  # WARNING: REMOVE SLICING\n",
    "print(\"Generated compounds; RAM memory % used:\", psutil.virtual_memory()[2], flush=True)\n",
    "print(\"Total RAM:\", psutil.virtual_memory()[0], flush=True)\n",
    "print(\"Available RAM:\", psutil.virtual_memory()[1], flush=True)\n",
    "\n",
    "\n"
   ]
  },
  {
   "cell_type": "code",
   "execution_count": 6,
   "metadata": {},
   "outputs": [
    {
     "name": "stdout",
     "output_type": "stream",
     "text": [
      "Generated empty representation matrix; RAM memory % used: 79.3\n"
     ]
    }
   ],
   "source": [
    "mbtypes = get_slatm_mbtypes([mol.nuclear_charges for mol in compounds])\n",
    "\n",
    "# replace this number with the size of the mbtypes\n",
    "SIZEOFSLATM = len(mbtypes)\n",
    "X = np.zeros((len(compounds), SIZEOFSLATM), dtype=np.float16)\n",
    "N = []\n",
    "print(\n",
    "    \"Generated empty representation matrix; RAM memory % used:\",\n",
    "    psutil.virtual_memory()[2],\n",
    "    flush=True,\n",
    ")"
   ]
  },
  {
   "cell_type": "code",
   "execution_count": 7,
   "metadata": {},
   "outputs": [
    {
     "name": "stdout",
     "output_type": "stream",
     "text": [
      "Generated empty representation matrix; RAM memory % used: 79.3\n"
     ]
    }
   ],
   "source": [
    "SIZEOFSLATM = 17941\n",
    "\n",
    "print(\n",
    "    \"Generated empty representation matrix; RAM memory % used:\",\n",
    "    psutil.virtual_memory()[2],\n",
    "    flush=True,\n",
    ")"
   ]
  },
  {
   "cell_type": "code",
   "execution_count": 8,
   "metadata": {},
   "outputs": [
    {
     "data": {
      "text/plain": [
       "469"
      ]
     },
     "execution_count": 8,
     "metadata": {},
     "output_type": "execute_result"
    }
   ],
   "source": [
    "len(mbtypes)"
   ]
  },
  {
   "cell_type": "code",
   "execution_count": 12,
   "metadata": {},
   "outputs": [
    {
     "name": "stdout",
     "output_type": "stream",
     "text": [
      "Tackling representation of <qml.compound.Compound object at 0x7c6f17510f70>\n",
      "(17941,)\n"
     ]
    }
   ],
   "source": [
    "N = []\n",
    "X = np.zeros((len(compounds), SIZEOFSLATM), dtype=np.float16)\n",
    "N = []\n",
    "for i, mol in enumerate(compounds):\n",
    "    print(f\"Tackling representation of {namelist[i]}\", flush=True)\n",
    "    mol.generate_slatm(mbtypes, local=False, dgrids=[0.1, 0.1])\n",
    "    print(mol.representation.shape)\n",
    "    X[i, :] = np.float16(mol.representation)\n",
    "    N.append(mol.name)\n",
    "    break\n",
    "\n",
    "\n",
    "N = np.array(N)\n",
    "#np.save(\"names.npy\", N)"
   ]
  },
  {
   "cell_type": "code",
   "execution_count": 21,
   "metadata": {},
   "outputs": [
    {
     "data": {
      "image/png": "[encoded data removed]",
      "text/plain": [
       "<Figure size 640x480 with 1 Axes>"
      ]
     },
     "metadata": {},
     "output_type": "display_data"
    }
   ],
   "source": [
    "import matplotlib.pyplot as plt\n",
    "fig, ax = plt.subplots()\n",
    "ax.plot(X[0])\n",
    "plt.show()"
   ]
  },
  {
   "cell_type": "code",
   "execution_count": null,
   "metadata": {},
   "outputs": [],
   "source": []
  }
 ],
 "metadata": {
  "kernelspec": {
   "display_name": "stk_search",
   "language": "python",
   "name": "python3"
  },
  "language_info": {
   "codemirror_mode": {
    "name": "ipython",
    "version": 3
   },
   "file_extension": ".py",
   "mimetype": "text/x-python",
   "name": "python",
   "nbconvert_exporter": "python",
   "pygments_lexer": "ipython3",
   "version": "3.8.19"
  }
 },
 "nbformat": 4,
 "nbformat_minor": 2
}
